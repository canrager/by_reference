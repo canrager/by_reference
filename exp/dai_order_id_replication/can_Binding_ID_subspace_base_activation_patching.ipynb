{
 "cells": [
  {
   "cell_type": "markdown",
   "id": "6beaa86d",
   "metadata": {},
   "source": [
    "## Dependency"
   ]
  },
  {
   "cell_type": "code",
   "execution_count": 1,
   "id": "d1c034d3",
   "metadata": {},
   "outputs": [
    {
     "name": "stderr",
     "output_type": "stream",
     "text": [
      "/share/u/can/miniconda3/envs/reference_env/lib/python3.11/site-packages/tqdm/auto.py:21: TqdmWarning: IProgress not found. Please update jupyter and ipywidgets. See https://ipywidgets.readthedocs.io/en/stable/user_install.html\n",
      "  from .autonotebook import tqdm as notebook_tqdm\n"
     ]
    }
   ],
   "source": [
    "from transformer_lens import HookedTransformer, utils\n",
    "import torch\n",
    "import json\n",
    "from tqdm import tqdm\n",
    "import numpy as np\n",
    "import matplotlib.pyplot as plt\n",
    "import torch.nn.functional as F\n",
    "import matplotlib.pyplot as plt\n",
    "from neel_plotly import imshow\n",
    "from collections import defaultdict\n",
    "import plotly.graph_objects as go\n",
    "from functools import partial\n",
    "import random\n",
    "from collections import defaultdict\n",
    "import pickle\n",
    "import plotly\n",
    "import pandas as pd\n",
    "import plotly.express as px\n",
    "from plotly.subplots import make_subplots"
   ]
  },
  {
   "cell_type": "code",
   "execution_count": 2,
   "id": "ce964f9c",
   "metadata": {},
   "outputs": [
    {
     "data": {
      "text/plain": [
       "<torch.autograd.grad_mode.set_grad_enabled at 0x7f2c9c84e290>"
      ]
     },
     "execution_count": 2,
     "metadata": {},
     "output_type": "execute_result"
    }
   ],
   "source": [
    "torch.set_grad_enabled(False)"
   ]
  },
  {
   "cell_type": "markdown",
   "id": "3b909dcc",
   "metadata": {},
   "source": [
    "### Laoding LM"
   ]
  },
  {
   "cell_type": "code",
   "execution_count": 3,
   "id": "b4921490",
   "metadata": {},
   "outputs": [
    {
     "name": "stderr",
     "output_type": "stream",
     "text": [
      "Loading checkpoint shards: 100%|██████████| 2/2 [00:03<00:00,  1.50s/it]\n",
      "WARNING:root:You are not using LayerNorm, so the writing weights can't be centered! Skipping\n"
     ]
    },
    {
     "name": "stdout",
     "output_type": "stream",
     "text": [
      "Loaded pretrained model Llama-2-7b into HookedTransformer\n"
     ]
    }
   ],
   "source": [
    "device = \"cuda:0\"\n",
    "model = HookedTransformer.from_pretrained(\"Llama-2-7b\", device=device)"
   ]
  },
  {
   "cell_type": "markdown",
   "id": "4fc3e7f6",
   "metadata": {},
   "source": [
    "## Loading Dataset\n",
    "### Preprocessing Model"
   ]
  },
  {
   "cell_type": "code",
   "execution_count": 4,
   "id": "773bfadc",
   "metadata": {},
   "outputs": [],
   "source": [
    "def add_interjection(toks, ent, sz=7):\n",
    "    # e.g., a1 has b1, a2 has b2 --> a1 has b1, ha ha ha, a2 has b2\n",
    "    sents = []\n",
    "    w1 = toks[:1]\n",
    "    toks_ = toks[1:]\n",
    "    nb_tok = len(toks_)\n",
    "    new_toks = []\n",
    "    for i in range(0, nb_tok, sz):\n",
    "        sent = toks_[i:i+sz]\n",
    "        sents.append(sent)\n",
    "    interject = [\"ha\"] * sz * 6\n",
    "    interject[-1] = \",\"\n",
    "    ent_ord = 0\n",
    "    for i, sent in enumerate(sents):\n",
    "        if ent in sent:\n",
    "            ent_ord = i\n",
    "    sents.insert(1, interject)\n",
    "    for sent in sents:\n",
    "        new_toks.extend(sent)\n",
    "    toks_out = w1 + new_toks\n",
    "    return toks_out, ent_ord + 1\n",
    "\n",
    "def repeat_ent(toks, ent, sz=7):\n",
    "    # e.g., a1 has b1, a2 has b2 --> a1 has b1, a2 has b1\n",
    "    sents = []\n",
    "    w1 = toks[:1]\n",
    "    toks_ = toks[1:]\n",
    "    nb_tok = len(toks_)\n",
    "    new_toks = []\n",
    "    for i in range(0, nb_tok, sz):\n",
    "        sent = toks_[i:i+sz]\n",
    "        sents.append(sent)\n",
    "        sent[-2] = ent\n",
    "        new_toks.extend(sent)\n",
    "    toks_out = w1 + new_toks\n",
    "    return toks_out\n",
    "\n",
    "def adding_pseu(toks, sz=7, a__=\"pc\", e__=\"Z\"):\n",
    "    # e.g., prompt --> a_ has e_, prompt\n",
    "    sents = []\n",
    "    w1 = toks[:1]\n",
    "    toks_ = toks[1:]\n",
    "    nb_tok = len(toks_)\n",
    "    new_toks = []\n",
    "    for i in range(0, nb_tok, sz):\n",
    "        sent = toks_[i:i+sz]\n",
    "        sents.append(sent)\n",
    "        new_toks.extend(sent)\n",
    "        \n",
    "    pseu = sents[-2].copy()\n",
    "    pseu[1] = a__\n",
    "    pseu[-2] = e__\n",
    "    pseu[0] = \"The\"\n",
    "    pseu[-1] = \",\"\n",
    "    new_toks[0] = \"the\"\n",
    "    new_toks[-1] = \".\"\n",
    "    toks_out = w1 + pseu + new_toks\n",
    "    return toks_out\n",
    "\n",
    "# to erase the relation\n",
    "def erase_rel(toks, sz=7):\n",
    "    # e.g., a is in e --> a, ij, ij, e\n",
    "    nijs = [\"1\", \"2\", \"3\", \"4\", \"5\",\n",
    "            \"6\", \"7\", \"8\", \"9\", \"10\",\n",
    "            \"11\", \"12\", \"13\", \"14\", \"15\",\n",
    "            \"16\", \"17\", \"18\", \"19\", \"20\",\n",
    "            \"21\", \"22\", \"23\", \"24\", \"25\",\n",
    "            \"26\", \"27\", \"28\", \"29\", \"30\",]\n",
    "    \n",
    "    lijs = [\"a\", \"b\", \"c\", \"d\", \"e\",\n",
    "            \"f\", \"g\", \"h\", \"i\", \"j\",\n",
    "            \"k\", \"l\", \"m\", \"n\", \"o\",\n",
    "            \"p\", \"q\", \"r\", \"s\", \"t\",\n",
    "            \"u\", \"v\", \"w\", \"x\", \"y\", \"z\",]\n",
    "    sents = []\n",
    "    w1 = toks[:1]\n",
    "    toks_ = toks[1:]\n",
    "    nb_tok = len(toks_)\n",
    "    new_toks = []\n",
    "    for i in range(0, nb_tok, sz):\n",
    "        sent = toks_[i:i+sz]\n",
    "        sents.append(sent)\n",
    "        nsent = []\n",
    "        for wi, w in enumerate(sent):\n",
    "            if wi not in [1, sz-2]:\n",
    "                w = \"%s%s\" % (random.sample(lijs, 1)[0], random.sample(lijs, 1)[0])\n",
    "                while len(model.to_str_tokens(w)) != 2:\n",
    "                    w = \"%s%s\" % (random.sample(lijs, 1)[0], random.sample(lijs, 1)[0])\n",
    "            nsent.append(w)\n",
    "        new_toks.extend(nsent)\n",
    "        \n",
    "    toks_out = w1 + new_toks\n",
    "    return toks_out\n",
    "    \n",
    "#development set: lnb=0, rnb=700\n",
    "#testing set: lnb=700, rnb=7700\n",
    "def load_dataset(sfle, model, title=\"is_in\", lnb=0, rnb=300, end_ent=False, add_pseu=False,\n",
    "                 world1=\"Box\", world2=\"\"):\n",
    "    datas = []\n",
    "    datas_base = []\n",
    "    \n",
    "    if title in [\"is_in\"]:\n",
    "        sz = 7\n",
    "        # sz = 0\n",
    "    elif title in [\"sell\", \"apply\", \"move\", \"bring\", \"carry\", \"push\", \"provide\"]:\n",
    "        sz = 8\n",
    "    \n",
    "    if title in [\"sell\", \"apply\", \"move\", \"bring\", \"carry\", \"push\", \"provide\"]:\n",
    "        ent_poses = [2, 10, 18, 26, 34, 42, 50]\n",
    "        ae_dis = 5\n",
    "    elif title in [\"is_in\",]:\n",
    "        ent_poses = [2, 8, 14, 20, 26, 32, 38]\n",
    "        ae_dis = 4\n",
    "    \n",
    "    ij_toki = model.tokenizer.encode(\"ha\")[1]\n",
    "    with open(sfle, 'r') as fle:\n",
    "        lines = fle.readlines()\n",
    "        #random.seed(123)\n",
    "        #random.shuffle(lines)\n",
    "        for line in tqdm(lines[lnb:rnb]):\n",
    "            line = line.strip('\\n')\n",
    "            row = json.loads(line)\n",
    "            sent = row[\"sentence\"]\n",
    "            toks = model.to_str_tokens(sent)\n",
    "            toksi = model.tokenizer.encode(sent)\n",
    "            if title in [\"is_in\", \"apply\",  \"move\", \"bring\", \"provide\"]:\n",
    "                context = toks[:-6]\n",
    "                toks = context + toks[-6:]\n",
    "                e_ = toks[-5]#e.g., \"t\"\n",
    "            elif title in [\"carry\", \"push\"]:\n",
    "                context = toks[:-7]\n",
    "                toks = context + toks[-7:]\n",
    "                e_ = toks[-6]\n",
    "            elif title in [\"sell\",]:\n",
    "                context = toks[:-8]\n",
    "                toks = context + toks[-8:]\n",
    "                e_ = toks[-7]\n",
    "            a_ = toks[-2]#e.g., \"pot\"\n",
    "            \n",
    "            context_ij, ent_ord = add_interjection(context, a_, sz=sz)\n",
    "            context_1e = repeat_ent(context, e_, sz=sz)\n",
    "            context_norel = erase_rel(context, sz=sz)\n",
    "            \n",
    "            if add_pseu:\n",
    "                context = adding_pseu(context, sz=sz)\n",
    "            \n",
    "            if title == \"is_in\":\n",
    "                q_e = \"The %s is in\" % a_\n",
    "                q_a = \"%s contains the\" % e_\n",
    "                qq_e = \"Which  is the %s in? The %s is in\" % (a_, a_)\n",
    "                qq_a = \"What does %s contain? %s contains the\" % (e_, e_)\n",
    "            if title == \"sell\":\n",
    "                q_e = \"The %s has been sold by person\" % a_\n",
    "                q_a = \"Person %s is selling the\" % e_\n",
    "                qq_e = \"Which person does sell the %s? The %s has been sold by person\" % (a_, a_)\n",
    "                qq_a = \"What is sold by person %s? Person %s is selling the\" % (e_, e_)\n",
    "            if title == \"apply\":\n",
    "                q_e = \"The %s is applied by person\" % a_\n",
    "                q_a = \"Person %s applies the\" % e_\n",
    "                qq_e = \"Which person does apply the %s? The %s is applied by person\" % (a_, a_)\n",
    "                qq_a = \"What is applied by person %s? Person %s applies the\" % (e_, e_)\n",
    "            if title == \"move\":\n",
    "                q_e = \"The %s is moved by person\" % a_\n",
    "                q_a = \"Person %s moved the\" % e_\n",
    "                qq_e = \"Which person does move the %s? The %s is moved by person\" % (a_, a_)\n",
    "                qq_a = \"What is moved by person %s? Person %s moved the\" % (e_, e_)\n",
    "            if title == \"bring\":\n",
    "                q_e = \"The %s is brought by person\" % a_\n",
    "                q_a = \"Person %s brings the\" % e_\n",
    "                qq_e = \"Which person does bring the %s? The %s is brought by person\" % (a_, a_)\n",
    "                qq_a = \"What is brought by person %s? Person %s brings the\" % (e_, e_)\n",
    "            if title == \"carry\":\n",
    "                q_e = \"The %s is carried by person\" % a_\n",
    "                q_a = \"Person %s carries the\" % e_\n",
    "                qq_e = \"Which person does carry the %s? The %s is carried by person\" % (a_, a_)\n",
    "                qq_a = \"What is carried by person %s? Person %s carries the\" % (e_, e_)\n",
    "            if title == \"push\":\n",
    "                q_e = \"The %s is pushed by person\" % a_\n",
    "                q_a = \"Person %s pushes the\" % e_\n",
    "                qq_e = \"Which person does push the %s? The %s is pushed by person\" % (a_, a_)\n",
    "                qq_a = \"What is pushed by person %s? Person %s pushes the\" % (e_, e_)\n",
    "            if title == \"provide\":\n",
    "                q_e = \"The %s is provided by person\" % a_\n",
    "                q_a = \"Person %s provides the\" % e_\n",
    "                qq_e = \"Which person does prvovide the %s? The %s is provided by person\" % (a_, a_)\n",
    "                qq_a = \"What is provided by person %s? Person %s provides the\" % (e_, e_)\n",
    "                \n",
    "            pos_a = toks.index(a_)\n",
    "            pos_e = toks.index(e_)\n",
    "            poses_a = [i for i, x in enumerate(toks) if x == a_]\n",
    "            poses_e = [i for i, x in enumerate(toks) if x == e_]\n",
    "            #for testing abs position\n",
    "            pos_a = poses_a[0]\n",
    "            pos_e = poses_e[0]\n",
    "            opt_tokis_e = []\n",
    "            opt_tokis_a = []\n",
    "            opt_toks_e = []\n",
    "            opt_toks_a = []\n",
    "                \n",
    "            for i in ent_poses:\n",
    "                tok_a = toks[i]\n",
    "                tok_e = toks[i+ae_dis]\n",
    "                #print(tok_a, tok_e)\n",
    "                toki_a = model.tokenizer.encode(tok_a)[1]\n",
    "                toki_e = model.tokenizer.encode(tok_e)[1]\n",
    "                opt_tokis_e.append(toki_e)\n",
    "                opt_tokis_a.append(toki_a)\n",
    "                opt_toks_e.append(tok_e)\n",
    "                opt_toks_a.append(tok_a)\n",
    "            opt_tokis_a_ij = opt_tokis_a.copy()\n",
    "            opt_tokis_e_ij = opt_tokis_e.copy()\n",
    "            opt_tokis_a_ij.append(ij_toki)\n",
    "            opt_tokis_e_ij.append(ij_toki)\n",
    "            \n",
    "            context = \" \".join(context)\n",
    "            context_ij = \" \".join(context_ij)\n",
    "            if world2 != \"\":\n",
    "                context = context.replace(world1, world2)\n",
    "                q_a = q_a.replace(world1, world2)\n",
    "                q_e = q_e.replace(world1, world2)\n",
    "                context_ij = context_ij.replace(world1, world2)\n",
    "            data = {\n",
    "                    'context': context,\n",
    "                    'q_a': q_a,\n",
    "                    'qq_a': qq_a,\n",
    "                    'a_a':a_,\n",
    "                    'pos_a':pos_a,\n",
    "                    'q_e': q_e,\n",
    "                    'qq_e': qq_e,\n",
    "                    'a_e':e_,\n",
    "                    'pos_e':pos_e,\n",
    "                    'opt_tokis_e': opt_tokis_e,\n",
    "                    'opt_tokis_a': opt_tokis_a,\n",
    "                    'ent_ord': ent_ord,\n",
    "                    'context_ij': context_ij,\n",
    "                    'opt_tokis_e_ij': opt_tokis_e_ij,\n",
    "                    'opt_tokis_a_ij': opt_tokis_a_ij,\n",
    "                    # 'context_1e': ' '.join(context_1e),\n",
    "                    # 'context_norel': ' '.join(context_norel),\n",
    "                    }\n",
    "            datas.append(data)\n",
    "            if end_ent:\n",
    "                targ_enti = ent_poses[-1]\n",
    "            else:\n",
    "                targ_enti = ent_poses[0]\n",
    "            if pos_a == targ_enti:\n",
    "                datas_base.append(data)\n",
    "    return datas, datas_base"
   ]
  },
  {
   "cell_type": "markdown",
   "id": "16f66c2d",
   "metadata": {},
   "source": [
    "### Loading dataset"
   ]
  },
  {
   "cell_type": "code",
   "execution_count": 5,
   "id": "42efb337",
   "metadata": {},
   "outputs": [],
   "source": [
    "sfle_dataset0 = \"./bi_data/dataset_box.jsonl\"\n",
    "# sfle_dataset1 = \"./bi_data/dataset_sell_a.jsonl\"\n",
    "# sfle_dataset2 = \"./bi_data/dataset_apply_a.jsonl\"\n",
    "# sfle_dataset3 = \"./bi_data/dataset_move_a.jsonl\"\n",
    "# sfle_dataset4 = \"./bi_data/dataset_bring_a.jsonl\"\n",
    "# sfle_dataset5 = \"./bi_data/dataset_push_a.jsonl\""
   ]
  },
  {
   "cell_type": "markdown",
   "id": "c4a7e3e9",
   "metadata": {},
   "source": [
    "#### select the dataset and run the following code"
   ]
  },
  {
   "cell_type": "code",
   "execution_count": 6,
   "id": "569635ba",
   "metadata": {},
   "outputs": [
    {
     "name": "stderr",
     "output_type": "stream",
     "text": [
      "100%|██████████| 300/300 [00:04<00:00, 73.71it/s]\n"
     ]
    }
   ],
   "source": [
    "datas0, datas_base0 = load_dataset(sfle_dataset0, model)"
   ]
  },
  {
   "cell_type": "markdown",
   "id": "acdc8ba1",
   "metadata": {},
   "source": [
    "## Activation Extraction"
   ]
  },
  {
   "cell_type": "markdown",
   "id": "9036704c",
   "metadata": {},
   "source": [
    "### Tool"
   ]
  },
  {
   "cell_type": "code",
   "execution_count": 7,
   "id": "02ad5ebf",
   "metadata": {},
   "outputs": [],
   "source": [
    "def extract_emb_resi(model, layers, datas, pos=(-1, -1), ctx_tp=\"ori\", use_q=False, erase_re=False):\n",
    "    embs_a = []\n",
    "    embs_e = []\n",
    "    poses_a = []\n",
    "    poses_e = []\n",
    "    heads = []\n",
    "    ent_ords = []\n",
    "    for layer in layers:\n",
    "        print(\"Layer: %s\" % layer)\n",
    "        for data in tqdm(datas):\n",
    "            if ctx_tp == \"ij\":\n",
    "                context = data[\"context_ij\"]\n",
    "            elif ctx_tp == \"ori\":\n",
    "                context = data[\"context\"]\n",
    "            # if erase_re:\n",
    "            #     context = data[\"context_norel\"]\n",
    "            q_a = data[\"q_a\"]\n",
    "            q_e = data[\"q_e\"]\n",
    "            # if use_q:\n",
    "            #     q_a = data[\"qq_a\"]\n",
    "            #     q_e = data[\"qq_e\"]\n",
    "            pos_a = data[\"pos_a\"]\n",
    "            pos_e = data[\"pos_e\"]\n",
    "            ent_ord = data[\"ent_ord\"]\n",
    "            _, cache_a = model.run_with_cache(context + ' ' + q_a)\n",
    "            _, cache_e = model.run_with_cache(context + ' ' + q_e)\n",
    "            emb_a = cache_a[f\"blocks.{layer}.hook_resid_post\"][:, pos[0], :].squeeze().detach().cpu()\n",
    "            emb_e = cache_e[f\"blocks.{layer}.hook_resid_post\"][:, pos[1], :].squeeze().detach().cpu()\n",
    "            embs_a.append(emb_a)\n",
    "            embs_e.append(emb_e)\n",
    "            ent_ords.append(ent_ord)\n",
    "    embs_a = np.array(embs_a)\n",
    "    embs_e = np.array(embs_e)\n",
    "    return embs_a, embs_e, ent_ords"
   ]
  },
  {
   "cell_type": "markdown",
   "id": "2069d483",
   "metadata": {},
   "source": [
    "### Extracting\n",
    "#### Set the Layer8 as the target on Llama2-7B"
   ]
  },
  {
   "cell_type": "code",
   "execution_count": 8,
   "id": "a6b5ccd7",
   "metadata": {},
   "outputs": [],
   "source": [
    "layers = [8]"
   ]
  },
  {
   "cell_type": "code",
   "execution_count": 9,
   "id": "f6071f2d",
   "metadata": {},
   "outputs": [
    {
     "name": "stdout",
     "output_type": "stream",
     "text": [
      "Layer: 8\n"
     ]
    },
    {
     "name": "stderr",
     "output_type": "stream",
     "text": [
      "100%|██████████| 300/300 [00:57<00:00,  5.25it/s]\n"
     ]
    }
   ],
   "source": [
    "embs_a0, embs_e0, ent_ords0 = extract_emb_resi(model, layers, datas0, pos=(-3, -4), use_q=False)"
   ]
  },
  {
   "cell_type": "markdown",
   "id": "5932b682",
   "metadata": {},
   "source": [
    "## PCA-based Intervention"
   ]
  },
  {
   "cell_type": "markdown",
   "id": "c738f1b6",
   "metadata": {},
   "source": [
    "### PCA Tool"
   ]
  },
  {
   "cell_type": "code",
   "execution_count": 10,
   "id": "0724d6aa",
   "metadata": {},
   "outputs": [],
   "source": [
    "def scale_data(data, device=device):\n",
    "    data = torch.from_numpy(data)\n",
    "    data.to(device)\n",
    "    mean = torch.mean(data, dim=0)\n",
    "    std_dev = torch.std(data, dim=0)\n",
    "    #scaled_data = (data - mean) / std_dev\n",
    "    scaled_data = (data - mean)\n",
    "    #scaled_data = data\n",
    "    return scaled_data, mean, std_dev\n",
    "\n",
    "def cal_svd(data):\n",
    "    U, S, V = torch.pca_lowrank(data)\n",
    "    #U, S, V = torch.svd(data)\n",
    "    return V\n",
    "\n",
    "def V_matrix(data, nb_dim, device=device):\n",
    "    scaled_data, m_v, std_v = scale_data(data)\n",
    "    V = cal_svd(scaled_data).to(device)\n",
    "    m_v = m_v.to(device)\n",
    "    std_v = std_v.to(device)\n",
    "    return V, m_v, std_v"
   ]
  },
  {
   "cell_type": "markdown",
   "id": "88c9c53e",
   "metadata": {},
   "source": [
    "### Emb. Visualization Tool"
   ]
  },
  {
   "cell_type": "code",
   "execution_count": 11,
   "id": "dea730c4",
   "metadata": {},
   "outputs": [],
   "source": [
    "def visualize_emb(data, V, m_v, ent_ids):\n",
    "    data = torch.from_numpy(np.array(data))\n",
    "    scaled_data = data - m_v.to(data)\n",
    "    principal_components = V[:, :2].to(data)\n",
    "    proj_data = torch.mm(scaled_data, principal_components)\n",
    "    nb_data = proj_data.size(0)\n",
    "    for i in range(nb_data):\n",
    "        p = ent_ids[i]\n",
    "        if p == 1:\n",
    "            plt.scatter(proj_data[i, 0], proj_data[i, 1], color=\"r\")\n",
    "        elif p == 2:\n",
    "            plt.scatter(proj_data[i, 0], proj_data[i, 1], color=\"b\")\n",
    "        elif p == 3:\n",
    "            plt.scatter(proj_data[i, 0], proj_data[i, 1], color=\"g\")\n",
    "        elif p == 4:\n",
    "            plt.scatter(proj_data[i, 0], proj_data[i, 1], color=\"c\")\n",
    "        elif p == 5:\n",
    "            plt.scatter(proj_data[i, 0], proj_data[i, 1], color=\"m\")\n",
    "        elif p == 6:\n",
    "            plt.scatter(proj_data[i, 0], proj_data[i, 1], color=\"y\")\n",
    "        elif p == 7:\n",
    "            plt.scatter(proj_data[i, 0], proj_data[i, 1], color=\"k\")\n",
    "    plt.show()"
   ]
  },
  {
   "cell_type": "markdown",
   "id": "cd8868ab",
   "metadata": {},
   "source": [
    "### Intervention Tool"
   ]
  },
  {
   "cell_type": "markdown",
   "id": "bed3314c",
   "metadata": {},
   "source": [
    "### To extract BI projection matrix"
   ]
  },
  {
   "cell_type": "code",
   "execution_count": null,
   "id": "e36fb413",
   "metadata": {},
   "outputs": [
    {
     "data": {
      "image/png": "[encoded data removed]",
      "text/plain": [
       "<Figure size 640x480 with 1 Axes>"
      ]
     },
     "metadata": {},
     "output_type": "display_data"
    },
    {
     "ename": "",
     "evalue": "",
     "output_type": "error",
     "traceback": [
      "\u001b[1;31mThe Kernel crashed while executing code in the current cell or a previous cell. \n",
      "\u001b[1;31mPlease review the code in the cell(s) to identify a possible cause of the failure. \n",
      "\u001b[1;31mClick <a href='https://aka.ms/vscodeJupyterKernelCrash'>here</a> for more info. \n",
      "\u001b[1;31mView Jupyter <a href='command:jupyter.viewOutput'>log</a> for further details."
     ]
    }
   ],
   "source": [
    "V_0, m_v_0, std_v_0 = V_matrix(embs_a0, nb_dim=2)\n",
    "visualize_emb(embs_a0, V_0, m_v_0, ent_ords0)"
   ]
  },
  {
   "cell_type": "code",
   "execution_count": null,
   "id": "47398757",
   "metadata": {},
   "outputs": [],
   "source": []
  }
 ],
 "metadata": {
  "kernelspec": {
   "display_name": "reference_env",
   "language": "python",
   "name": "python3"
  },
  "language_info": {
   "codemirror_mode": {
    "name": "ipython",
    "version": 3
   },
   "file_extension": ".py",
   "mimetype": "text/x-python",
   "name": "python",
   "nbconvert_exporter": "python",
   "pygments_lexer": "ipython3",
   "version": "3.11.9"
  }
 },
 "nbformat": 4,
 "nbformat_minor": 5
}
